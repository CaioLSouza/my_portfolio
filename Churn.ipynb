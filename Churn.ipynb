{
  "cells": [
    {
      "cell_type": "markdown",
      "metadata": {
        "id": "view-in-github",
        "colab_type": "text"
      },
      "source": [
        "<a href=\"https://colab.research.google.com/github/CaioLSouza/my_portfolio/blob/main/Churn.ipynb\" target=\"_parent\"><img src=\"https://colab.research.google.com/assets/colab-badge.svg\" alt=\"Open In Colab\"/></a>"
      ]
    },
    {
      "cell_type": "markdown",
      "metadata": {
        "id": "sFYUCUHHrQ1n"
      },
      "source": [
        "# Churn Prediction\n",
        "\n",
        "\n",
        "\n",
        "No contexto empresarial, *churn* é uma métrica que indica a quantidade de clientes que cancelaram o serviço/assinatura de uma empresa, geralmente medido em algum intervalo temporal definido (semanal, mensal, anual etc.). Assim, se, por exemplo, uma empresa possui uma base de 100 clientes e 10 deles cancelam o serviço/produto oferecido por ela, então a taxa de churn é igual a 10%. Assim, churn é um problema enfrentado pelos mais variados tipos de empresas que buscam minimizar a sua ocorrência na medida do possível. \n",
        "\n",
        "Também é importante ressaltar que o problema do churn pode ser entendido tanto sob a ótica do número de clientes quanto sob a perspectiva do total de prejuízo monetário trazido pelos cancelamentos, que é o chamado MRR churn. O MRR churn é a soma do valor das assinaturas canceladas. Isso permite discriminar a perda de clientes maiores e mais importantes para o seu negócio daqueles clientes que são menos importantes. \n",
        "\n",
        "Portanto, para que uma empresa consiga um crescimento da sua quantidade de clientes, é necessário que o número de novos clientes seja superior ao número de churns. Além disso, o custo de conquistar novos clientes é, naturalmente, maior do que o custo de manter clientes que já assinam o seu serviço.\n",
        "\n",
        "\n",
        "Logo, a possibilidade de conferir a uma empresa a capacidade de prever quais dos seus clientes estão prestes a cancelar a sua assinatura é de extrema importância e conveniência. A partir dessas informações, a empresa é capaz de tomar decisões que impeçam a perda desses clientes, como o envio de mensagens oficiais, o oferecimento de descontos, oportunidades especiais etc. \n",
        "\n",
        "Nesse contexto, podemos perceber o quanto o uso de machine learning pode ser útil. Com o uso dele, podemos construir modelos que sejam capazes de prever quais clientes estão mais propensos de cancelar a sua assinatura. Assim, uma empresa seria capaz de utilizar essas informações para reduzir o número de cancelamentos, permitindo um aumento em suas receitas e uma redução em seus custos. \n",
        "\n",
        "Dado isso, o propósito desse projeto é utilizar dados de uma empresa de telecomunicações para tentar prever se um determinado cliente irá ou não cancelar o seu serviço (churn)."
      ]
    },
    {
      "cell_type": "markdown",
      "metadata": {
        "id": "w5ygvPABPZD1"
      },
      "source": [
        "## Definição do problema\n",
        "\n",
        "Como se pode observar, estamos lidando com um típico problema de machine learning supervisionado para classificação: queremos, a partir de um conjunto de dados e informações conhecidas, prever se um determinado cliente irá ou não irá cancelar a sua assinatura. Portanto, a variável alvo ou variável resposta é uma variável binária que nos informa se houve ou não a ocorrência de *churn*."
      ]
    },
    {
      "cell_type": "markdown",
      "metadata": {
        "id": "jCQ21MimVSBm"
      },
      "source": [
        "## Importar pacotes que serão utilizados"
      ]
    },
    {
      "cell_type": "code",
      "execution_count": 85,
      "metadata": {
        "id": "0Gz-G3pNJgu5"
      },
      "outputs": [],
      "source": [
        "# manipulação de dados\n",
        "import pandas as pd\n",
        "import numpy as np\n",
        "\n",
        "# visualização de dados\n",
        "import matplotlib.pyplot as plt\n",
        "import seaborn as sns\n",
        "\n",
        "# preprocessamento\n",
        "from sklearn.preprocessing import StandardScaler, LabelEncoder, OneHotEncoder, OrdinalEncoder\n",
        "\n",
        "# validação\n",
        "from sklearn.model_selection import cross_val_score, cross_validate, StratifiedKFold, GridSearchCV\n",
        "\n",
        "\n",
        "# algorítmos de machine learning\n",
        "from sklearn.linear_model import LogisticRegression\n",
        "from sklearn.ensemble import RandomForestClassifier, AdaBoostClassifier\n",
        "from sklearn.svm import SVC\n",
        "from sklearn.neighbors import KNeighborsClassifier\n",
        "from xgboost import XGBClassifier\n",
        "\n",
        "# divisão treino-teste\n",
        "from sklearn.model_selection import train_test_split\n",
        "\n",
        "# métricas de avaliação\n",
        "from sklearn.metrics import accuracy_score, precision_score, recall_score, f1_score, confusion_matrix"
      ]
    },
    {
      "cell_type": "markdown",
      "metadata": {
        "id": "XmXkjeH-JVru"
      },
      "source": [
        "## Aquisição dos Dados\n",
        "\n",
        "O conjunto de dados que será utilizado foi disponibilizado pela plataforma de ensino da IBM Developer e pode ser encontrado [neste link](https://raw.githubusercontent.com/CaioLSouza/datasets/main/churn_dataset.csv) no formato ``csv``.\n",
        "\n",
        "Ele não vem em conjunto com nenhuma descrição a respeito dele, mas os nomes das *features* são sugestivas o suficiente para uma clara compreensão do significado dos dados."
      ]
    },
    {
      "cell_type": "code",
      "execution_count": 97,
      "metadata": {
        "colab": {
          "base_uri": "https://localhost:8080/",
          "height": 386
        },
        "id": "3qJ4bN4jrJEQ",
        "outputId": "aa934320-37a7-46f2-8979-4db434760988"
      },
      "outputs": [
        {
          "output_type": "execute_result",
          "data": {
            "text/plain": [
              "   customerID  gender  SeniorCitizen Partner Dependents  tenure PhoneService  \\\n",
              "0  7590-VHVEG  Female              0     Yes         No       1           No   \n",
              "1  5575-GNVDE    Male              0      No         No      34          Yes   \n",
              "2  3668-QPYBK    Male              0      No         No       2          Yes   \n",
              "3  7795-CFOCW    Male              0      No         No      45           No   \n",
              "4  9237-HQITU  Female              0      No         No       2          Yes   \n",
              "\n",
              "      MultipleLines InternetService OnlineSecurity  ... DeviceProtection  \\\n",
              "0  No phone service             DSL             No  ...               No   \n",
              "1                No             DSL            Yes  ...              Yes   \n",
              "2                No             DSL            Yes  ...               No   \n",
              "3  No phone service             DSL            Yes  ...              Yes   \n",
              "4                No     Fiber optic             No  ...               No   \n",
              "\n",
              "  TechSupport StreamingTV StreamingMovies        Contract PaperlessBilling  \\\n",
              "0          No          No              No  Month-to-month              Yes   \n",
              "1          No          No              No        One year               No   \n",
              "2          No          No              No  Month-to-month              Yes   \n",
              "3         Yes          No              No        One year               No   \n",
              "4          No          No              No  Month-to-month              Yes   \n",
              "\n",
              "               PaymentMethod MonthlyCharges  TotalCharges Churn  \n",
              "0           Electronic check          29.85         29.85    No  \n",
              "1               Mailed check          56.95        1889.5    No  \n",
              "2               Mailed check          53.85        108.15   Yes  \n",
              "3  Bank transfer (automatic)          42.30       1840.75    No  \n",
              "4           Electronic check          70.70        151.65   Yes  \n",
              "\n",
              "[5 rows x 21 columns]"
            ],
            "text/html": [
              "\n",
              "  <div id=\"df-775dd231-919c-4141-9d9f-1ac2dea7c5cc\">\n",
              "    <div class=\"colab-df-container\">\n",
              "      <div>\n",
              "<style scoped>\n",
              "    .dataframe tbody tr th:only-of-type {\n",
              "        vertical-align: middle;\n",
              "    }\n",
              "\n",
              "    .dataframe tbody tr th {\n",
              "        vertical-align: top;\n",
              "    }\n",
              "\n",
              "    .dataframe thead th {\n",
              "        text-align: right;\n",
              "    }\n",
              "</style>\n",
              "<table border=\"1\" class=\"dataframe\">\n",
              "  <thead>\n",
              "    <tr style=\"text-align: right;\">\n",
              "      <th></th>\n",
              "      <th>customerID</th>\n",
              "      <th>gender</th>\n",
              "      <th>SeniorCitizen</th>\n",
              "      <th>Partner</th>\n",
              "      <th>Dependents</th>\n",
              "      <th>tenure</th>\n",
              "      <th>PhoneService</th>\n",
              "      <th>MultipleLines</th>\n",
              "      <th>InternetService</th>\n",
              "      <th>OnlineSecurity</th>\n",
              "      <th>...</th>\n",
              "      <th>DeviceProtection</th>\n",
              "      <th>TechSupport</th>\n",
              "      <th>StreamingTV</th>\n",
              "      <th>StreamingMovies</th>\n",
              "      <th>Contract</th>\n",
              "      <th>PaperlessBilling</th>\n",
              "      <th>PaymentMethod</th>\n",
              "      <th>MonthlyCharges</th>\n",
              "      <th>TotalCharges</th>\n",
              "      <th>Churn</th>\n",
              "    </tr>\n",
              "  </thead>\n",
              "  <tbody>\n",
              "    <tr>\n",
              "      <th>0</th>\n",
              "      <td>7590-VHVEG</td>\n",
              "      <td>Female</td>\n",
              "      <td>0</td>\n",
              "      <td>Yes</td>\n",
              "      <td>No</td>\n",
              "      <td>1</td>\n",
              "      <td>No</td>\n",
              "      <td>No phone service</td>\n",
              "      <td>DSL</td>\n",
              "      <td>No</td>\n",
              "      <td>...</td>\n",
              "      <td>No</td>\n",
              "      <td>No</td>\n",
              "      <td>No</td>\n",
              "      <td>No</td>\n",
              "      <td>Month-to-month</td>\n",
              "      <td>Yes</td>\n",
              "      <td>Electronic check</td>\n",
              "      <td>29.85</td>\n",
              "      <td>29.85</td>\n",
              "      <td>No</td>\n",
              "    </tr>\n",
              "    <tr>\n",
              "      <th>1</th>\n",
              "      <td>5575-GNVDE</td>\n",
              "      <td>Male</td>\n",
              "      <td>0</td>\n",
              "      <td>No</td>\n",
              "      <td>No</td>\n",
              "      <td>34</td>\n",
              "      <td>Yes</td>\n",
              "      <td>No</td>\n",
              "      <td>DSL</td>\n",
              "      <td>Yes</td>\n",
              "      <td>...</td>\n",
              "      <td>Yes</td>\n",
              "      <td>No</td>\n",
              "      <td>No</td>\n",
              "      <td>No</td>\n",
              "      <td>One year</td>\n",
              "      <td>No</td>\n",
              "      <td>Mailed check</td>\n",
              "      <td>56.95</td>\n",
              "      <td>1889.5</td>\n",
              "      <td>No</td>\n",
              "    </tr>\n",
              "    <tr>\n",
              "      <th>2</th>\n",
              "      <td>3668-QPYBK</td>\n",
              "      <td>Male</td>\n",
              "      <td>0</td>\n",
              "      <td>No</td>\n",
              "      <td>No</td>\n",
              "      <td>2</td>\n",
              "      <td>Yes</td>\n",
              "      <td>No</td>\n",
              "      <td>DSL</td>\n",
              "      <td>Yes</td>\n",
              "      <td>...</td>\n",
              "      <td>No</td>\n",
              "      <td>No</td>\n",
              "      <td>No</td>\n",
              "      <td>No</td>\n",
              "      <td>Month-to-month</td>\n",
              "      <td>Yes</td>\n",
              "      <td>Mailed check</td>\n",
              "      <td>53.85</td>\n",
              "      <td>108.15</td>\n",
              "      <td>Yes</td>\n",
              "    </tr>\n",
              "    <tr>\n",
              "      <th>3</th>\n",
              "      <td>7795-CFOCW</td>\n",
              "      <td>Male</td>\n",
              "      <td>0</td>\n",
              "      <td>No</td>\n",
              "      <td>No</td>\n",
              "      <td>45</td>\n",
              "      <td>No</td>\n",
              "      <td>No phone service</td>\n",
              "      <td>DSL</td>\n",
              "      <td>Yes</td>\n",
              "      <td>...</td>\n",
              "      <td>Yes</td>\n",
              "      <td>Yes</td>\n",
              "      <td>No</td>\n",
              "      <td>No</td>\n",
              "      <td>One year</td>\n",
              "      <td>No</td>\n",
              "      <td>Bank transfer (automatic)</td>\n",
              "      <td>42.30</td>\n",
              "      <td>1840.75</td>\n",
              "      <td>No</td>\n",
              "    </tr>\n",
              "    <tr>\n",
              "      <th>4</th>\n",
              "      <td>9237-HQITU</td>\n",
              "      <td>Female</td>\n",
              "      <td>0</td>\n",
              "      <td>No</td>\n",
              "      <td>No</td>\n",
              "      <td>2</td>\n",
              "      <td>Yes</td>\n",
              "      <td>No</td>\n",
              "      <td>Fiber optic</td>\n",
              "      <td>No</td>\n",
              "      <td>...</td>\n",
              "      <td>No</td>\n",
              "      <td>No</td>\n",
              "      <td>No</td>\n",
              "      <td>No</td>\n",
              "      <td>Month-to-month</td>\n",
              "      <td>Yes</td>\n",
              "      <td>Electronic check</td>\n",
              "      <td>70.70</td>\n",
              "      <td>151.65</td>\n",
              "      <td>Yes</td>\n",
              "    </tr>\n",
              "  </tbody>\n",
              "</table>\n",
              "<p>5 rows × 21 columns</p>\n",
              "</div>\n",
              "      <button class=\"colab-df-convert\" onclick=\"convertToInteractive('df-775dd231-919c-4141-9d9f-1ac2dea7c5cc')\"\n",
              "              title=\"Convert this dataframe to an interactive table.\"\n",
              "              style=\"display:none;\">\n",
              "        \n",
              "  <svg xmlns=\"http://www.w3.org/2000/svg\" height=\"24px\"viewBox=\"0 0 24 24\"\n",
              "       width=\"24px\">\n",
              "    <path d=\"M0 0h24v24H0V0z\" fill=\"none\"/>\n",
              "    <path d=\"M18.56 5.44l.94 2.06.94-2.06 2.06-.94-2.06-.94-.94-2.06-.94 2.06-2.06.94zm-11 1L8.5 8.5l.94-2.06 2.06-.94-2.06-.94L8.5 2.5l-.94 2.06-2.06.94zm10 10l.94 2.06.94-2.06 2.06-.94-2.06-.94-.94-2.06-.94 2.06-2.06.94z\"/><path d=\"M17.41 7.96l-1.37-1.37c-.4-.4-.92-.59-1.43-.59-.52 0-1.04.2-1.43.59L10.3 9.45l-7.72 7.72c-.78.78-.78 2.05 0 2.83L4 21.41c.39.39.9.59 1.41.59.51 0 1.02-.2 1.41-.59l7.78-7.78 2.81-2.81c.8-.78.8-2.07 0-2.86zM5.41 20L4 18.59l7.72-7.72 1.47 1.35L5.41 20z\"/>\n",
              "  </svg>\n",
              "      </button>\n",
              "      \n",
              "  <style>\n",
              "    .colab-df-container {\n",
              "      display:flex;\n",
              "      flex-wrap:wrap;\n",
              "      gap: 12px;\n",
              "    }\n",
              "\n",
              "    .colab-df-convert {\n",
              "      background-color: #E8F0FE;\n",
              "      border: none;\n",
              "      border-radius: 50%;\n",
              "      cursor: pointer;\n",
              "      display: none;\n",
              "      fill: #1967D2;\n",
              "      height: 32px;\n",
              "      padding: 0 0 0 0;\n",
              "      width: 32px;\n",
              "    }\n",
              "\n",
              "    .colab-df-convert:hover {\n",
              "      background-color: #E2EBFA;\n",
              "      box-shadow: 0px 1px 2px rgba(60, 64, 67, 0.3), 0px 1px 3px 1px rgba(60, 64, 67, 0.15);\n",
              "      fill: #174EA6;\n",
              "    }\n",
              "\n",
              "    [theme=dark] .colab-df-convert {\n",
              "      background-color: #3B4455;\n",
              "      fill: #D2E3FC;\n",
              "    }\n",
              "\n",
              "    [theme=dark] .colab-df-convert:hover {\n",
              "      background-color: #434B5C;\n",
              "      box-shadow: 0px 1px 3px 1px rgba(0, 0, 0, 0.15);\n",
              "      filter: drop-shadow(0px 1px 2px rgba(0, 0, 0, 0.3));\n",
              "      fill: #FFFFFF;\n",
              "    }\n",
              "  </style>\n",
              "\n",
              "      <script>\n",
              "        const buttonEl =\n",
              "          document.querySelector('#df-775dd231-919c-4141-9d9f-1ac2dea7c5cc button.colab-df-convert');\n",
              "        buttonEl.style.display =\n",
              "          google.colab.kernel.accessAllowed ? 'block' : 'none';\n",
              "\n",
              "        async function convertToInteractive(key) {\n",
              "          const element = document.querySelector('#df-775dd231-919c-4141-9d9f-1ac2dea7c5cc');\n",
              "          const dataTable =\n",
              "            await google.colab.kernel.invokeFunction('convertToInteractive',\n",
              "                                                     [key], {});\n",
              "          if (!dataTable) return;\n",
              "\n",
              "          const docLinkHtml = 'Like what you see? Visit the ' +\n",
              "            '<a target=\"_blank\" href=https://colab.research.google.com/notebooks/data_table.ipynb>data table notebook</a>'\n",
              "            + ' to learn more about interactive tables.';\n",
              "          element.innerHTML = '';\n",
              "          dataTable['output_type'] = 'display_data';\n",
              "          await google.colab.output.renderOutput(dataTable, element);\n",
              "          const docLink = document.createElement('div');\n",
              "          docLink.innerHTML = docLinkHtml;\n",
              "          element.appendChild(docLink);\n",
              "        }\n",
              "      </script>\n",
              "    </div>\n",
              "  </div>\n",
              "  "
            ]
          },
          "metadata": {},
          "execution_count": 97
        }
      ],
      "source": [
        "DATA_PATH = \"https://raw.githubusercontent.com/CaioLSouza/datasets/main/churn_dataset.csv\"\n",
        "churn = pd.read_csv(DATA_PATH)\n",
        "churn.head()"
      ]
    },
    {
      "cell_type": "code",
      "execution_count": 98,
      "metadata": {
        "colab": {
          "base_uri": "https://localhost:8080/"
        },
        "id": "NOrnoqNfNxiP",
        "outputId": "9d748396-72c6-4834-a75a-a46abc30b5ea"
      },
      "outputs": [
        {
          "output_type": "stream",
          "name": "stdout",
          "text": [
            "O número de linhas do conjunto de dados é: 7043\n",
            "O número de variáveis do conjunto de dados é: 21\n"
          ]
        }
      ],
      "source": [
        "print(f\"O número de linhas do conjunto de dados é: {churn.shape[0]}\")\n",
        "print(f\"O número de variáveis do conjunto de dados é: {churn.shape[1]}\")"
      ]
    },
    {
      "cell_type": "code",
      "execution_count": 99,
      "metadata": {
        "colab": {
          "base_uri": "https://localhost:8080/"
        },
        "id": "TBG-FoCROVK2",
        "outputId": "98950d89-d8da-473d-9c8b-ef7f3ded0875"
      },
      "outputs": [
        {
          "output_type": "execute_result",
          "data": {
            "text/plain": [
              "Index(['customerID', 'gender', 'SeniorCitizen', 'Partner', 'Dependents',\n",
              "       'tenure', 'PhoneService', 'MultipleLines', 'InternetService',\n",
              "       'OnlineSecurity', 'OnlineBackup', 'DeviceProtection', 'TechSupport',\n",
              "       'StreamingTV', 'StreamingMovies', 'Contract', 'PaperlessBilling',\n",
              "       'PaymentMethod', 'MonthlyCharges', 'TotalCharges', 'Churn'],\n",
              "      dtype='object')"
            ]
          },
          "metadata": {},
          "execution_count": 99
        }
      ],
      "source": [
        "churn.columns"
      ]
    },
    {
      "cell_type": "markdown",
      "metadata": {
        "id": "MozMEcQbKxDU"
      },
      "source": [
        "## Dicionário de Variáveis\n",
        "\n",
        "``customerID``: Código de identificação do cliente.\n",
        "\n",
        "``gender``: Gênero (masculino ou feminino).\n",
        "\n",
        "``SeniorCitizen``: Aposentado ou não.\n",
        "\n",
        "``Partner``: O cliente é um parceiro ou não.\n",
        "\n",
        "``Dependents``: O cliente tem dependentes ou não.\n",
        "\n",
        "``tenure``: Número de meses em que o cliente está com a empresa.\n",
        "\n",
        "``PhoneService``: O cliente tem serviços de telefonia ou não.\n",
        "\n",
        "``MultipleLines``: O cliente possui linhas múltiplas ou não.\n",
        "\n",
        "``InternetServices``: Qual o tipo de serviço de internet do cliente.\n",
        "\n",
        "``OnlineSecurity``: Se o cliente tem segurança online ou não.\n",
        "\n",
        "``OnlineBackup``: Se o cliente possui backup online ou não \n",
        "\n",
        "``DeviceProtection``: Se o cliente possui um dispositivo de proteção ou não.\n",
        "\n",
        "``TechSupport``: Se o cliente possui um auxílio tecnológico ou não.\n",
        "\n",
        "``StreamingTV``: Se o cliente possui serviço de streaming de TV ou não.\n",
        "\n",
        "``StreamingMovies``: Se o cliente possui serviço de streaming de filmes ou não.\n",
        "\n",
        "``Contract``: Tempo de assinatura do contrato.\n",
        "\n",
        "``PaperlessBilling``: Se a conta para o cliente pagar é online ou não.\n",
        "\n",
        "``PaymentMethod``: Método de pagamento\n",
        "\n",
        "``MonthlyCharges``: Pagamento mensal \n",
        "\n",
        "``TotalCharges``: Pagamento total (produto entre ``MonthlyCharges`` e ``Tenure``)\n",
        "\n",
        "``Churn``: Houve ou não houve churn (variável-alvo).\n",
        "\n"
      ]
    },
    {
      "cell_type": "markdown",
      "metadata": {
        "id": "qN62nfoJU91R"
      },
      "source": [
        "Como se pode ver, a grande maioria das variáveis são do tipo categóricas. Apenas ``tenure``, ``MonthlyCharges`` e ``TotalCharges`` são variáveis numéricas."
      ]
    },
    {
      "cell_type": "markdown",
      "metadata": {
        "id": "mPqZ9Ue0Jlbl"
      },
      "source": [
        "## Funções utilizadas"
      ]
    },
    {
      "cell_type": "code",
      "execution_count": 68,
      "metadata": {
        "id": "Q53Sgis2yQ2r"
      },
      "outputs": [],
      "source": [
        "def classification_features(dataset, target):\n",
        "  ''' classifica as variáveis de um conjunto de dados em três categorias: \n",
        "  numéricas, categóricas binárias e categóricas não binárias '''\n",
        "  bin_var = []\n",
        "  cat_var = []\n",
        "  num_var = []\n",
        "  for col in dataset: \n",
        "    if dataset[col].nunique() == 2 and col != target:\n",
        "      bin_var.append(col)\n",
        "    if dataset[col].dtype == 'float64' or dataset[col].dtype == 'int64' and col not in bin_var and col != target:\n",
        "      num_var.append(col)\n",
        "    if dataset[col].dtype == 'object' and col not in bin_var and col != target:\n",
        "      cat_var.append(col)\n",
        "  return bin_var, cat_var, num_var"
      ]
    },
    {
      "cell_type": "code",
      "execution_count": 69,
      "metadata": {
        "id": "JOuIYu0mXW0f"
      },
      "outputs": [],
      "source": [
        "def metrics(y_test, preds):\n",
        "  ''' essa função mostra os valores das métricas acurácia, recall, precisão e f1-score '''\n",
        "  print('Acurácia: ', accuracy_score(y_test, preds))\n",
        "  print('Recall: ', recall_score(y_test, preds))\n",
        "  print('Precisão: ', precision_score(y_test, preds))\n",
        "  print('F1-score: ', f1_score(y_test, preds))"
      ]
    },
    {
      "cell_type": "code",
      "execution_count": 72,
      "metadata": {
        "id": "kAMUszEz0yMH"
      },
      "outputs": [],
      "source": [
        "def get_metrics(cross_validation):\n",
        "  ''' obtêm itens de um dicionário e escreve todas as \n",
        "  suas chaves em conjunto com a média dos valores desse dicionário. '''\n",
        "  for key, value in cross_validation.items():\n",
        "    print(key, np.mean(value))"
      ]
    },
    {
      "cell_type": "code",
      "execution_count": 8,
      "metadata": {
        "id": "pQ-vHPrZXboo"
      },
      "outputs": [],
      "source": [
        "def plot_confusion_matrix(y_test, preds):\n",
        "  ''' essa função cria um gráfico com uma matriz de confusão '''\n",
        "  matrix = confusion_matrix(y_test, preds)\n",
        "  fig, ax = plt.subplots(figsize=(8, 5))\n",
        "  sns.heatmap(matrix, annot=True, cmap='viridis', fmt='d')\n",
        "  ax.set_title('Matriz de confusão para o XGBoost')\n",
        "  ax.set_xlabel('Previsto')\n",
        "  ax.set_ylabel('Observado')\n",
        "  plt.tight_layout()"
      ]
    },
    {
      "cell_type": "code",
      "source": [
        "def business_metrics(y_test, preds, dataset, monthly_charges):\n",
        "  '''Essa função contém métricas de negócios relacionadas com o potencial retorno monetário gerado pelo modelo'''\n",
        "  churn_rate = len(y_test[y_test == 1]) / len(y_test)\n",
        "\n",
        "  predicted_churn_rate = len(preds[preds == 1]) / len(preds)\n",
        "\n",
        "  recall = recall_score(y_test, preds)\n",
        "\n",
        "  correct_positive_predictions = len(preds[(preds[preds == 1]) & (preds == y_test)]) / len(y_test)\n",
        "\n",
        "  positive_correct = preds[(preds == 1) & (preds == y_test)]\n",
        "  positive_correct = pd.Series(positive_correct, index=y_test.index)\n",
        "  mrr = dataset.loc[positive_correct.index]\n",
        "  anual_mrr = mrr[monthly_charges].mean() * 12\n",
        "\n",
        "  summary = pd.Series([\n",
        "      churn_rate, \n",
        "      predicted_churn_rate,\n",
        "      recall,\n",
        "      correct_positive_predictions,\n",
        "      anual_mrr\n",
        "  ],\n",
        "  index = [\n",
        "      'Taxa de churn', \n",
        "      'Taxa de churn prevista',\n",
        "      'Recall' ,\n",
        "      'Churns corretamente previstos', \n",
        "      'MRR churn anual por cliente (receita potencialmente salva)'\n",
        "  ])\n",
        "  \n",
        "  return summary"
      ],
      "metadata": {
        "id": "z21mkKTP5vzl"
      },
      "execution_count": 80,
      "outputs": []
    },
    {
      "cell_type": "markdown",
      "metadata": {
        "id": "E-QzdDuBT31c"
      },
      "source": [
        "## Análise exploratória dos dados\n",
        "\n",
        "Vamos começar o projeto fazendo uma análise exploratória dos dados disponíveis."
      ]
    },
    {
      "cell_type": "markdown",
      "metadata": {
        "id": "7HiY9EZeUURF"
      },
      "source": [
        "### Valores ausentes\n",
        "\n",
        "Primeiro, vamos verificar a quantidade de valores ausentes dentro das variáveis."
      ]
    },
    {
      "cell_type": "code",
      "execution_count": 9,
      "metadata": {
        "colab": {
          "base_uri": "https://localhost:8080/"
        },
        "id": "fYkMsFImT51I",
        "outputId": "8674ea04-3129-4c24-e86f-75d500b45cb4"
      },
      "outputs": [
        {
          "output_type": "execute_result",
          "data": {
            "text/plain": [
              "customerID          0\n",
              "gender              0\n",
              "SeniorCitizen       0\n",
              "Partner             0\n",
              "Dependents          0\n",
              "tenure              0\n",
              "PhoneService        0\n",
              "MultipleLines       0\n",
              "InternetService     0\n",
              "OnlineSecurity      0\n",
              "OnlineBackup        0\n",
              "DeviceProtection    0\n",
              "TechSupport         0\n",
              "StreamingTV         0\n",
              "StreamingMovies     0\n",
              "Contract            0\n",
              "PaperlessBilling    0\n",
              "PaymentMethod       0\n",
              "MonthlyCharges      0\n",
              "TotalCharges        0\n",
              "Churn               0\n",
              "dtype: int64"
            ]
          },
          "metadata": {},
          "execution_count": 9
        }
      ],
      "source": [
        "churn.isnull().sum()"
      ]
    },
    {
      "cell_type": "markdown",
      "metadata": {
        "id": "Tj2dZ1hXUlKw"
      },
      "source": [
        "Aparentemente, não há nenhum valor ausente dentro do conjunto de dados."
      ]
    },
    {
      "cell_type": "markdown",
      "metadata": {
        "id": "19yEpl3kUq7e"
      },
      "source": [
        "### Tipos de variáveis"
      ]
    },
    {
      "cell_type": "code",
      "execution_count": 10,
      "metadata": {
        "colab": {
          "base_uri": "https://localhost:8080/"
        },
        "id": "4ZyhgUIDUkEM",
        "outputId": "c737f142-fcc7-4019-957a-c64c5ec44ea3"
      },
      "outputs": [
        {
          "output_type": "execute_result",
          "data": {
            "text/plain": [
              "customerID           object\n",
              "gender               object\n",
              "SeniorCitizen         int64\n",
              "Partner              object\n",
              "Dependents           object\n",
              "tenure                int64\n",
              "PhoneService         object\n",
              "MultipleLines        object\n",
              "InternetService      object\n",
              "OnlineSecurity       object\n",
              "OnlineBackup         object\n",
              "DeviceProtection     object\n",
              "TechSupport          object\n",
              "StreamingTV          object\n",
              "StreamingMovies      object\n",
              "Contract             object\n",
              "PaperlessBilling     object\n",
              "PaymentMethod        object\n",
              "MonthlyCharges      float64\n",
              "TotalCharges         object\n",
              "Churn                object\n",
              "dtype: object"
            ]
          },
          "metadata": {},
          "execution_count": 10
        }
      ],
      "source": [
        "churn.dtypes"
      ]
    },
    {
      "cell_type": "markdown",
      "metadata": {
        "id": "a_eNgpi1Vp4-"
      },
      "source": [
        "O que mais chama a atenção aqui é a variável ``TotalCharges``, que é uma variável numérica, mas cujo tipo de dado está listado como categórica (object). Então é natural pensarmos em transformá-la em numérica. Contudo, ao fazermos isso, obtemos um erro, pois há informações dentro dessa variável que estão marcadas apenas com duas aspas (' ')."
      ]
    },
    {
      "cell_type": "code",
      "execution_count": 11,
      "metadata": {
        "colab": {
          "base_uri": "https://localhost:8080/"
        },
        "id": "ESWImoM_WA-l",
        "outputId": "94140c6a-17a2-40ee-b6d1-4bccb4746695"
      },
      "outputs": [
        {
          "output_type": "execute_result",
          "data": {
            "text/plain": [
              "11"
            ]
          },
          "metadata": {},
          "execution_count": 11
        }
      ],
      "source": [
        "len(churn['TotalCharges'].loc[churn['TotalCharges'] == ' '])"
      ]
    },
    {
      "cell_type": "markdown",
      "metadata": {
        "id": "djue1T3GWxLo"
      },
      "source": [
        "O que aconteceu foi que os valores ausentes dessa variável foram marcados com duas aspas para indicá-los. Assim, vamos substituir esses valores por valores ausentes para então podermos transformar a variável para numérica novamente."
      ]
    },
    {
      "cell_type": "code",
      "execution_count": 12,
      "metadata": {
        "id": "YFPifarbWgQB"
      },
      "outputs": [],
      "source": [
        "churn['TotalCharges'].replace(' ', 'NaN', inplace=True)"
      ]
    },
    {
      "cell_type": "code",
      "execution_count": 13,
      "metadata": {
        "colab": {
          "base_uri": "https://localhost:8080/"
        },
        "id": "RlsPxpHZtaTB",
        "outputId": "d71459f8-8251-4142-b625-514540269f17"
      },
      "outputs": [
        {
          "output_type": "execute_result",
          "data": {
            "text/plain": [
              "0"
            ]
          },
          "metadata": {},
          "execution_count": 13
        }
      ],
      "source": [
        "churn['TotalCharges'].isnull().sum()"
      ]
    },
    {
      "cell_type": "code",
      "execution_count": 14,
      "metadata": {
        "id": "EDf6gr_orylh"
      },
      "outputs": [],
      "source": [
        "churn['TotalCharges'] = churn['TotalCharges'].astype(float)"
      ]
    },
    {
      "cell_type": "markdown",
      "metadata": {
        "id": "FZQJLCq7DJWp"
      },
      "source": [
        "Além da divisão entre variáveis categóricas e numéricas, é importante também a subdivisão entre variáveis categóricas binárias e não binárias. Assim, para as variáveis abaixo, aquelas que possuem como valores únicos apenas dois valores distintos são as variáveis binárias."
      ]
    },
    {
      "cell_type": "code",
      "execution_count": 15,
      "metadata": {
        "colab": {
          "base_uri": "https://localhost:8080/"
        },
        "id": "Aex7hkN6CuK5",
        "outputId": "413d6320-0441-4ae8-f39c-fcf972ffc0bf"
      },
      "outputs": [
        {
          "output_type": "execute_result",
          "data": {
            "text/plain": [
              "customerID          7043\n",
              "gender                 2\n",
              "SeniorCitizen          2\n",
              "Partner                2\n",
              "Dependents             2\n",
              "tenure                73\n",
              "PhoneService           2\n",
              "MultipleLines          3\n",
              "InternetService        3\n",
              "OnlineSecurity         3\n",
              "OnlineBackup           3\n",
              "DeviceProtection       3\n",
              "TechSupport            3\n",
              "StreamingTV            3\n",
              "StreamingMovies        3\n",
              "Contract               3\n",
              "PaperlessBilling       2\n",
              "PaymentMethod          4\n",
              "MonthlyCharges      1585\n",
              "TotalCharges        6530\n",
              "Churn                  2\n",
              "dtype: int64"
            ]
          },
          "metadata": {},
          "execution_count": 15
        }
      ],
      "source": [
        "churn.nunique()"
      ]
    },
    {
      "cell_type": "markdown",
      "metadata": {
        "id": "FPQNNRhRvJaq"
      },
      "source": [
        "### Variável-alvo\n",
        "\n",
        "A variável que estamos tentando prever nesse conjunto de dados é a variável ``Churn``."
      ]
    },
    {
      "cell_type": "code",
      "execution_count": 16,
      "metadata": {
        "colab": {
          "base_uri": "https://localhost:8080/"
        },
        "id": "35cvnI9rARMy",
        "outputId": "9365ec60-81dc-46cf-d584-6c72a3ab1cf9"
      },
      "outputs": [
        {
          "output_type": "execute_result",
          "data": {
            "text/plain": [
              "array(['No', 'Yes'], dtype=object)"
            ]
          },
          "metadata": {},
          "execution_count": 16
        }
      ],
      "source": [
        "churn['Churn'].unique()"
      ]
    },
    {
      "cell_type": "markdown",
      "metadata": {
        "id": "kADhorwmAnlf"
      },
      "source": [
        "Trata-se, como já foi visto, de uma variável categórica binária. Será útil armazenar em variáveis diferentes os valores para cada classe distinta."
      ]
    },
    {
      "cell_type": "code",
      "execution_count": 17,
      "metadata": {
        "id": "dRr8OT8TXUY2"
      },
      "outputs": [],
      "source": [
        "class_0 = churn.loc[churn['Churn'] == 'No']\n",
        "class_1 = churn.loc[churn['Churn'] == 'Yes']"
      ]
    },
    {
      "cell_type": "markdown",
      "metadata": {
        "id": "yuky5gW8BUtE"
      },
      "source": [
        "Vamos agora analisar o balanceamento dos dados."
      ]
    },
    {
      "cell_type": "code",
      "execution_count": 18,
      "metadata": {
        "colab": {
          "base_uri": "https://localhost:8080/"
        },
        "id": "gjIR6CwXwCBR",
        "outputId": "0227c356-e1e2-43eb-99e3-0571b7bd7ee7"
      },
      "outputs": [
        {
          "output_type": "stream",
          "name": "stdout",
          "text": [
            "Porcentagem de valores da classe positiva: 0.2653698707936959\n",
            "Porcentagem de valores da classe negativa 0.7346301292063041\n"
          ]
        }
      ],
      "source": [
        "print(f\"Porcentagem de valores da classe positiva: {len(churn['Churn'].loc[churn['Churn'] == 'Yes']) / len(churn['Churn'])}\")\n",
        "print(f\"Porcentagem de valores da classe negativa { 1 - len(churn['Churn'].loc[churn['Churn'] == 'Yes']) / len(churn['Churn'])}\")"
      ]
    },
    {
      "cell_type": "code",
      "execution_count": 19,
      "metadata": {
        "colab": {
          "base_uri": "https://localhost:8080/",
          "height": 297
        },
        "id": "VvpfcoDNAzV5",
        "outputId": "29e1817d-546d-4882-ff81-e0ae2ee0aada"
      },
      "outputs": [
        {
          "output_type": "display_data",
          "data": {
            "text/plain": [
              "<Figure size 432x288 with 1 Axes>"
            ],
            "image/png": "[encoded data removed]"
          },
          "metadata": {
            "needs_background": "light"
          }
        }
      ],
      "source": [
        "sns.countplot(x=churn['Churn'])\n",
        "plt.tight_layout()"
      ]
    },
    {
      "cell_type": "markdown",
      "metadata": {
        "id": "EFdOJ67SBbxB"
      },
      "source": [
        "Como se poderia esperar intuitivamente, a maioria dos dados correspondem à classe negativa, ou seja, pessoas que não cancelaram o seu serviço. Esse desbalanceamento poderá ser tratado com mais profundidade na etapa da construção do modelo propriamente dito."
      ]
    },
    {
      "cell_type": "markdown",
      "metadata": {
        "id": "3qmlyNwqDsBK"
      },
      "source": [
        "### Distribuições de frequência\n",
        "\n",
        "Nessa etapa, podemos começar analisando a distribuição das duas variáveis numéricas contínuas do conjunto de dados: ``TotalCharges`` e ``MonthlyCharges``, respectivamente. Vamos também comparar os histogramas para os dados em que não há churn com os dados em que há ocorrência de churn."
      ]
    },
    {
      "cell_type": "code",
      "execution_count": 20,
      "metadata": {
        "colab": {
          "base_uri": "https://localhost:8080/",
          "height": 369
        },
        "id": "ynICQnV8Udbz",
        "outputId": "6404f4e6-974a-49ac-9a42-7221b084a47c"
      },
      "outputs": [
        {
          "output_type": "display_data",
          "data": {
            "text/plain": [
              "<Figure size 648x360 with 2 Axes>"
            ],
            "image/png": "[encoded data removed]"
          },
          "metadata": {
            "needs_background": "light"
          }
        }
      ],
      "source": [
        "fig, ax = plt.subplots(nrows=2, ncols=1, figsize=(9, 5))\n",
        "\n",
        "\n",
        "\n",
        "ax[0].hist(class_0['TotalCharges'], bins=50)\n",
        "ax[0].set_title('Histograma para Total Charges sem Churn')\n",
        "\n",
        "ax[1].hist(class_1['TotalCharges'], bins=50)\n",
        "ax[1].set_title('Histograma para Total Charges com churn')\n",
        "\n",
        "\n",
        "plt.tight_layout()"
      ]
    },
    {
      "cell_type": "code",
      "execution_count": 21,
      "metadata": {
        "colab": {
          "base_uri": "https://localhost:8080/",
          "height": 369
        },
        "id": "yNkHGzKrYLa_",
        "outputId": "4f331c2a-ad85-4548-ddb8-74c18674dde0"
      },
      "outputs": [
        {
          "output_type": "display_data",
          "data": {
            "text/plain": [
              "<Figure size 648x360 with 2 Axes>"
            ],
            "image/png": "[encoded data removed]"
          },
          "metadata": {
            "needs_background": "light"
          }
        }
      ],
      "source": [
        "fig, ax = plt.subplots(nrows=2, ncols=1, figsize=(9, 5))\n",
        "\n",
        "ax[0].hist(class_0['MonthlyCharges'], bins=50)\n",
        "ax[0].set_title('Histograma para Monthly Charges sem Churn')\n",
        "\n",
        "ax[1].hist(class_1['MonthlyCharges'], bins=50)\n",
        "ax[1].set_title('Histograma para Monthly Charges com churn')\n",
        "\n",
        "\n",
        "\n",
        "plt.tight_layout()"
      ]
    },
    {
      "cell_type": "markdown",
      "metadata": {
        "id": "1p6QbtIBSGit"
      },
      "source": [
        "* Os histogramas para a variável ``TotalCharges`` mostram uma distribuição próxima a de Pareto. Para a ``MonthlyCharges`` temos uma distribuição de frequências bem menos ordenada, além de uma nítida diferença entre as observações com e sem churn. Ao que o gráfico indica, observações com churn são relativamente mais comuns quando há a presença de uma conta mensal mais alta.\n",
        "\n",
        "\n",
        "\n",
        "* Agora, vamos analisar essas diferenças com um boxplot."
      ]
    },
    {
      "cell_type": "code",
      "execution_count": 22,
      "metadata": {
        "colab": {
          "base_uri": "https://localhost:8080/",
          "height": 297
        },
        "id": "5I6WfGVqEY7P",
        "outputId": "aece4f90-7b54-45aa-cc8d-ebf8ea08a031"
      },
      "outputs": [
        {
          "output_type": "display_data",
          "data": {
            "text/plain": [
              "<Figure size 432x288 with 1 Axes>"
            ],
            "image/png": "[encoded data removed]"
          },
          "metadata": {
            "needs_background": "light"
          }
        }
      ],
      "source": [
        "fig, ax = plt.subplots(figsize=(6, 4), sharex=True)\n",
        "sns.boxplot(x= churn['Churn'], y=churn['TotalCharges'], ax=ax)\n",
        "plt.tight_layout()"
      ]
    },
    {
      "cell_type": "code",
      "execution_count": 23,
      "metadata": {
        "colab": {
          "base_uri": "https://localhost:8080/",
          "height": 297
        },
        "id": "l2EsHcVMFj90",
        "outputId": "cb4f8cef-378d-462a-a11f-a1fd69d7d27a"
      },
      "outputs": [
        {
          "output_type": "display_data",
          "data": {
            "text/plain": [
              "<Figure size 432x288 with 1 Axes>"
            ],
            "image/png": "[encoded data removed]"
          },
          "metadata": {
            "needs_background": "light"
          }
        }
      ],
      "source": [
        "fig, ax = plt.subplots(figsize=(6, 4), sharex=True)\n",
        "sns.boxplot(x=churn['Churn'], y=churn['MonthlyCharges'], ax=ax)\n",
        "plt.tight_layout()"
      ]
    },
    {
      "cell_type": "markdown",
      "metadata": {
        "id": "Gr8efz3uZ92_"
      },
      "source": [
        "* ``TotalCharges`` \n",
        "\n",
        "  * A mediana das observações sem churn é maior do que as em que há churn\n",
        "  * Há maior presença de outliers em observações com churn.\n",
        "\n",
        "* ``MonthlyCharges``\n",
        "\n",
        "  * A mediana das observações com churn tende a ser maior.\n",
        "\n",
        "\n",
        "O que explica essa discrepância entre as medianas? Uma hipótese seria a de que pessoas com assinaturas mensais mais caras tendem a assinar por menos tempo, fazendo com que o pagamento total das pessoas que não tiveram churn seja, em média, maior."
      ]
    },
    {
      "cell_type": "markdown",
      "metadata": {
        "id": "mTXU-Km3yhz3"
      },
      "source": [
        "### Qual a influência do gênero na ocorrência de *churn*? \n",
        "\n",
        "Uma pergunta razoável a se fazer é a de se homens ou mulheres possuem uma maior tendência de cancelar os serviços dessa empresa de telecomunicações. Para verificar isso, primeiro devemos analisar como os dois gêneros estão distribuídos no conjunto de dados. Após isso, podemos comparar isso com como os gêneros estão distribuídos para aquelas observações em que há ocorrência de *churn*."
      ]
    },
    {
      "cell_type": "code",
      "execution_count": 24,
      "metadata": {
        "colab": {
          "base_uri": "https://localhost:8080/",
          "height": 350
        },
        "id": "6n5cuuhYz-Qm",
        "outputId": "19091133-0cfb-491d-bb7c-952937af3be1"
      },
      "outputs": [
        {
          "output_type": "stream",
          "name": "stdout",
          "text": [
            "A proporção de homens é: 0.504756495811444\n",
            "A proporção de mulheres é: 0.495243504188556\n"
          ]
        },
        {
          "output_type": "display_data",
          "data": {
            "text/plain": [
              "<Figure size 504x288 with 1 Axes>"
            ],
            "image/png": "[encoded data removed]"
          },
          "metadata": {
            "needs_background": "light"
          }
        }
      ],
      "source": [
        "fig, ax = plt.subplots(figsize=(7, 4))\n",
        "sns.countplot(data=churn, x='gender')\n",
        "plt.tight_layout()\n",
        "\n",
        "ax.set_title('Número total de homens e mulheres')\n",
        "\n",
        "print(f\"A proporção de homens é: {len(churn['gender'].loc[churn['gender'] == 'Male']) / len(churn['gender'])}\")\n",
        "print(f\"A proporção de mulheres é: {len(churn.loc[churn['gender'] == 'Female']) / len(churn)}\")"
      ]
    },
    {
      "cell_type": "code",
      "execution_count": 25,
      "metadata": {
        "colab": {
          "base_uri": "https://localhost:8080/",
          "height": 350
        },
        "id": "OTp74Wao0TQR",
        "outputId": "18a36e95-a928-4b9e-b42d-a80cc0f0adc1"
      },
      "outputs": [
        {
          "output_type": "stream",
          "name": "stdout",
          "text": [
            "A proporção de homens é: 0.49759229534510435\n",
            "A proporção de mulheres é: 0.5024077046548957\n"
          ]
        },
        {
          "output_type": "display_data",
          "data": {
            "text/plain": [
              "<Figure size 504x288 with 1 Axes>"
            ],
            "image/png": "[encoded data removed]"
          },
          "metadata": {
            "needs_background": "light"
          }
        }
      ],
      "source": [
        "fig, ax = plt.subplots(figsize=(7, 4))\n",
        "sns.countplot(data=churn.loc[churn['Churn'] == 'Yes'], x='gender')\n",
        "\n",
        "plt.tight_layout()\n",
        "\n",
        "ax.set_title('Número total de homens e mulheres em que houve ocorrência de churn')\n",
        "\n",
        "print(f\"A proporção de homens é: {len(churn['gender'].loc[(churn['gender'] == 'Male') & (churn['Churn'] == 'Yes')]) / len(churn['gender'].loc[churn['Churn'] == 'Yes'])}\")\n",
        "print(f\"A proporção de mulheres é: {len(churn.loc[(churn['gender'] == 'Female') & (churn['Churn'] == 'Yes')]) / len(churn.loc[churn['Churn'] == 'Yes'])}\")"
      ]
    },
    {
      "cell_type": "markdown",
      "metadata": {
        "id": "gKHWtevs5E8v"
      },
      "source": [
        "Os resultados nos mostram que, dentre as observações em que houve *churn*, não há uma predominância significativa maior de homens ou de mulheres."
      ]
    },
    {
      "cell_type": "markdown",
      "metadata": {
        "id": "5YN9nKz17CfL"
      },
      "source": [
        "### Clientes \"sócios\" possuem uma menor ocorrência de *churn*?\n",
        "\n",
        "Vamos aplicar o mesmo procedimento para o gênero, mas agora iremos utilizar a variável ``Partner`` para comparar a taxa de *churn* entre sócios e não sócios da empresa."
      ]
    },
    {
      "cell_type": "code",
      "execution_count": 26,
      "metadata": {
        "colab": {
          "base_uri": "https://localhost:8080/",
          "height": 334
        },
        "id": "Ccr02T5P8dI2",
        "outputId": "4d347afe-a472-4330-d749-7f96e170a066"
      },
      "outputs": [
        {
          "output_type": "stream",
          "name": "stdout",
          "text": [
            "A proporção de sócios é: 0.4830327985233565\n",
            "A proporção de não sócios é: 0.5169672014766434\n"
          ]
        },
        {
          "output_type": "display_data",
          "data": {
            "text/plain": [
              "<Figure size 504x288 with 1 Axes>"
            ],
            "image/png": "[encoded data removed]"
          },
          "metadata": {
            "needs_background": "light"
          }
        }
      ],
      "source": [
        "fig, ax = plt.subplots(figsize=(7, 4))\n",
        "ax.set_title('Número total de sócios e não sócios da empresa')\n",
        "sns.countplot(data=churn, x='Partner')\n",
        "plt.tight_layout()\n",
        "\n",
        "print(f\"A proporção de sócios é: {len(churn.loc[churn['Partner'] == 'Yes']) / len(churn['gender'])}\")\n",
        "print(f\"A proporção de não sócios é: {len(churn.loc[churn['Partner'] == 'No']) / len(churn)}\")"
      ]
    },
    {
      "cell_type": "code",
      "execution_count": 27,
      "metadata": {
        "colab": {
          "base_uri": "https://localhost:8080/",
          "height": 334
        },
        "id": "f1Q1q5j6GHBz",
        "outputId": "f9ae484d-420d-40c9-8456-46c8f071c3cf"
      },
      "outputs": [
        {
          "output_type": "stream",
          "name": "stdout",
          "text": [
            "A proporção de sócios é: 0.3579454253611557\n",
            "A proporção de não sócios é: 0.6420545746388443\n"
          ]
        },
        {
          "output_type": "display_data",
          "data": {
            "text/plain": [
              "<Figure size 504x288 with 1 Axes>"
            ],
            "image/png": "[encoded data removed]"
          },
          "metadata": {
            "needs_background": "light"
          }
        }
      ],
      "source": [
        "fig, ax = plt.subplots(figsize=(7, 4))\n",
        "sns.countplot(data=(churn.loc[churn['Churn'] == 'Yes']), x='Partner')\n",
        "ax.set_title('Número de sócios e não sócios em que houve churn')\n",
        "plt.tight_layout()\n",
        "\n",
        "print(f\"A proporção de sócios é: {len(churn.loc[(churn['Partner'] == 'Yes') & (churn['Churn'] == 'Yes')]) / len(churn.loc[churn['Churn'] == 'Yes'])}\")\n",
        "print(f\"A proporção de não sócios é: {len(churn.loc[(churn['Partner'] == 'No') & (churn['Churn'] == 'Yes')]) / len(churn.loc[churn['Churn'] == 'Yes'])}\")"
      ]
    },
    {
      "cell_type": "markdown",
      "metadata": {
        "id": "mDTkznHBILvN"
      },
      "source": [
        "Nessa caso vemos um cenário bem diferente. Os dados indicam que a taxa de *churn* de sócios é significativamente menor do que a de não sócios. Portanto, temos um indicativo que uma forma da empresa manter seus clientes e evitar churns está em aumentar a sua base de sócios."
      ]
    },
    {
      "cell_type": "markdown",
      "metadata": {
        "id": "oasJdEmrUEWY"
      },
      "source": [
        "### Clientes com contratos mais longos tendem a cancelar menos? \n",
        "\n",
        "Vamos aplicar, novamente, o mesmo procedimento, mas agora para a variável ``Contract``."
      ]
    },
    {
      "cell_type": "code",
      "execution_count": 28,
      "metadata": {
        "colab": {
          "base_uri": "https://localhost:8080/",
          "height": 336
        },
        "id": "YmvZkFmWQ2yg",
        "outputId": "d14f7657-cde6-446c-ecdb-8c8c9f31bb61"
      },
      "outputs": [
        {
          "output_type": "display_data",
          "data": {
            "text/plain": [
              "<Figure size 432x288 with 1 Axes>"
            ],
            "image/png": "[encoded data removed]"
          },
          "metadata": {
            "needs_background": "light"
          }
        }
      ],
      "source": [
        "_ = churn['Contract'].value_counts().plot.bar()"
      ]
    },
    {
      "cell_type": "code",
      "execution_count": 29,
      "metadata": {
        "colab": {
          "base_uri": "https://localhost:8080/",
          "height": 354
        },
        "id": "QMNzG63zTRqK",
        "outputId": "68ca350d-e785-4380-98ca-16af63a34361"
      },
      "outputs": [
        {
          "output_type": "execute_result",
          "data": {
            "text/plain": [
              "<matplotlib.axes._subplots.AxesSubplot at 0x7fb778da70a0>"
            ]
          },
          "metadata": {},
          "execution_count": 29
        },
        {
          "output_type": "display_data",
          "data": {
            "text/plain": [
              "<Figure size 432x288 with 1 Axes>"
            ],
            "image/png": "[encoded data removed]"
          },
          "metadata": {
            "needs_background": "light"
          }
        }
      ],
      "source": [
        "churn['Contract'].loc[churn['Churn'] == 'Yes'].value_counts().plot.bar()"
      ]
    },
    {
      "cell_type": "markdown",
      "metadata": {
        "id": "mBF2uvqjUi14"
      },
      "source": [
        "Os gráficos mostram que há uma tendência de ocorrência maior de *churns* em usuários com contratos mensais, em contraposição aos contratos mais longos (um ano e dois anos)."
      ]
    },
    {
      "cell_type": "markdown",
      "metadata": {
        "id": "0cBfggFV7Iuv"
      },
      "source": [
        "## Pré-processamento dos dados\n",
        "\n",
        "O próximo passo é realizar o pré-processamento dos dados para que eles possam ser utilizados pelos modelos de machine learning.\n",
        "\n",
        "* Definir, claramente, os valores da variável alvo.\n",
        "\n",
        "* Lidar com dados ausentes (como já visto, existem na variável ``TotalCharges``)\n",
        "\n",
        "* Transformar as variáveis categóricas em numéricas. As binárias serão transformadas pelo método *label encoder*, enquanto nas não binárias será o utilizado o *one hot encoder*.\n",
        "\n",
        "* Padronizar os dados.\n",
        "\n",
        "* Remover variáveis desnecessárias.\n",
        "\n",
        "\n"
      ]
    },
    {
      "cell_type": "markdown",
      "metadata": {
        "id": "n5NHqTJC6Fwh"
      },
      "source": [
        "### Definindo a variável-alvo\n",
        "\n",
        "A variável-alvo é binária, ou seja, representa a ocorrência ou não de *churn*. Por isso, iremos definí-la da seguinte forma: \n",
        "\n",
        "* Se houve *churn*, então o valor dela é igual a 1.\n",
        "\n",
        "* Caso contrário, é configurada como igual a 0."
      ]
    },
    {
      "cell_type": "code",
      "execution_count": 30,
      "metadata": {
        "id": "4RwjzVnd6IP1"
      },
      "outputs": [],
      "source": [
        "churn['Churn'] = np.where(churn['Churn'] == 'Yes', 1, 0)"
      ]
    },
    {
      "cell_type": "markdown",
      "metadata": {
        "id": "_IDbc0Mx_o4a"
      },
      "source": [
        "### Removendo variáveis\n",
        "\n",
        "A coluna ``customerID`` não possui nenhuma informação relevante, apenas informa o código de identificação do cliente. Por isso, vamos removê-la.\n",
        "\n"
      ]
    },
    {
      "cell_type": "code",
      "execution_count": 31,
      "metadata": {
        "id": "W8O0CgzjEpZR"
      },
      "outputs": [],
      "source": [
        "churn = churn.drop('customerID', axis=1)"
      ]
    },
    {
      "cell_type": "markdown",
      "metadata": {
        "id": "CsKiHNb4ZJY7"
      },
      "source": [
        "### Removendo valores ausentes\n",
        "\n",
        "Temos, como já foi visto, 11 valores ausentes no conjunto de dados. Vamos remover essas entradas."
      ]
    },
    {
      "cell_type": "code",
      "execution_count": 32,
      "metadata": {
        "id": "DbxGWup_ZLZz"
      },
      "outputs": [],
      "source": [
        "churn = churn.dropna(axis=0)"
      ]
    },
    {
      "cell_type": "markdown",
      "metadata": {
        "id": "29cSI8wgFwA6"
      },
      "source": [
        "### Preparando as variáveis\n",
        "\n",
        "As mudanças feitas nos dados precisam ser realizadas em função dos tipos de variáveis que temos nesse conjunto de dados. Assim, vamos utilizar uma função que separa as variáveis de acordo com essa classificação.\n",
        "\n",
        "Há 3 tipos de variáveis no conjunto de dados:\n",
        "\n",
        "* Numéricas.\n",
        "\n",
        "* Categóricas binárias.\n",
        "\n",
        "* Categóricas não binárias."
      ]
    },
    {
      "cell_type": "code",
      "execution_count": 33,
      "metadata": {
        "id": "038lGf5uzNXt"
      },
      "outputs": [],
      "source": [
        "bin_var, cat_var, num_var = classification_features(churn, 'Churn')"
      ]
    },
    {
      "cell_type": "markdown",
      "metadata": {
        "id": "TwSYxND3x7X_"
      },
      "source": [
        "### Categóricas não binárias"
      ]
    },
    {
      "cell_type": "code",
      "execution_count": 34,
      "metadata": {
        "id": "KHT1u57Mx-on"
      },
      "outputs": [],
      "source": [
        "churn = pd.get_dummies(churn, columns = cat_var)"
      ]
    },
    {
      "cell_type": "markdown",
      "metadata": {
        "id": "N4D9hAPj4Bdv"
      },
      "source": [
        "### Categóricas binárias\n",
        "\n"
      ]
    },
    {
      "cell_type": "code",
      "execution_count": 35,
      "metadata": {
        "id": "PGr_jIBq4DhT"
      },
      "outputs": [],
      "source": [
        "ordinal_encoder = OrdinalEncoder(dtype=int)\n",
        "ordinal_encoder.fit(churn[bin_var])\n",
        "churn[bin_var] = ordinal_encoder.transform(churn[bin_var])"
      ]
    },
    {
      "cell_type": "markdown",
      "metadata": {
        "id": "draQZWZeVIKp"
      },
      "source": [
        "### Divisão treino-teste"
      ]
    },
    {
      "cell_type": "code",
      "execution_count": 36,
      "metadata": {
        "id": "VXWtskacVpyl"
      },
      "outputs": [],
      "source": [
        "feature = churn.drop('Churn', axis=1)\n",
        "target = churn['Churn']"
      ]
    },
    {
      "cell_type": "code",
      "execution_count": 37,
      "metadata": {
        "id": "cPtuzaFWVbOU"
      },
      "outputs": [],
      "source": [
        "X_train, X_test, y_train, y_test = train_test_split(feature, target, test_size=0.2, random_state=42)"
      ]
    },
    {
      "cell_type": "markdown",
      "metadata": {
        "id": "HL-0Ws9hS0vp"
      },
      "source": [
        "Para o pré-processamento, usaremos: \n",
        "\n",
        "* Variáveis numéricas: padronização dos dados.\n",
        "\n",
        "* Variáveis categóricas binárias: encoder binário (\"0 e 1\").\n",
        "\n",
        "* Variáveis categóricas não binárias: *One Hot Encoder*.\n",
        "\n"
      ]
    },
    {
      "cell_type": "markdown",
      "metadata": {
        "id": "TGYCUd5mRcoo"
      },
      "source": [
        "### Variáveis numéricas"
      ]
    },
    {
      "cell_type": "code",
      "execution_count": 38,
      "metadata": {
        "id": "OtBm1Je4xoje"
      },
      "outputs": [],
      "source": [
        "scaler = StandardScaler()\n",
        "scaler.fit(X_train[num_var])\n",
        "X_train[num_var] = scaler.transform(X_train[num_var])\n",
        "X_test[num_var] = scaler.transform(X_test[num_var])"
      ]
    },
    {
      "cell_type": "markdown",
      "metadata": {
        "id": "mroX2rN6cP1a"
      },
      "source": [
        "## Selecionando um modelo simples \n",
        "\n",
        "Também vamos testar o desempenho de vários modelos simples e selecionar aquele com o melhor desempenho para ser aprimorado posteriormente. Para isso, iremos testar os seguintes algorítmos de classificação, mediante uma validação cruzada *5-fold*: \n",
        "\n",
        "* Regressão logística.\n",
        "\n",
        "* Random Forest.\n",
        "\n",
        "* Ada Boost. \n",
        "\n",
        "* Support Vector Machine.\n",
        "\n",
        "* K-vizinhos mais próximos.\n",
        "\n",
        "* XGBoost."
      ]
    },
    {
      "cell_type": "markdown",
      "metadata": {
        "id": "3351-_A6X4d9"
      },
      "source": [
        "### Métricas utilizadas\n",
        "\n",
        "Antes de construir os modelos, é necessário especificar quais serão os meios pelos quais iremos avaliar a sua performance. Nesse contexto, um modelo teria dois tipos de erros possíveis: \n",
        "\n",
        "* Prever a ocorrência de churn, mas o churn não ocorrer.\n",
        "\n",
        "* Prever a não ocorrência de churn, mas o churn ocorrer.\n",
        "\n",
        "O primeiro tipo seria um erro de **falso positivo**, enquanto o segundo seria o caso de um **falso negativo**.\n",
        "\n",
        "Para esse problema especificamente, um erro de falso negativo seria muito mais danoso para a empresa, pois siginificaria a perda de um cliente. Dado esse fato, a principal métrica que utilizaremos será a *recall* (ou revocação, em português). Ela está relacionada com a quantidade de falsos negativos nas previsões feitas pelo modelo. "
      ]
    },
    {
      "cell_type": "code",
      "execution_count": 39,
      "metadata": {
        "id": "iNINtMsNdAvW"
      },
      "outputs": [],
      "source": [
        "classifiers = [LogisticRegression(),\n",
        "               RandomForestClassifier(),\n",
        "               AdaBoostClassifier(),\n",
        "               SVC(),\n",
        "               KNeighborsClassifier(),\n",
        "               XGBClassifier()]"
      ]
    },
    {
      "cell_type": "code",
      "execution_count": 40,
      "metadata": {
        "colab": {
          "base_uri": "https://localhost:8080/"
        },
        "id": "bdTaIUkrfuVA",
        "outputId": "5a0e1d9f-d637-455b-e57a-2cee1344634c"
      },
      "outputs": [
        {
          "output_type": "stream",
          "name": "stdout",
          "text": [
            "LogisticRegression() 0.5591973244147157\n",
            "RandomForestClassifier() 0.5070234113712374\n",
            "AdaBoostClassifier() 0.5431438127090301\n",
            "SVC() 0.5083612040133779\n",
            "KNeighborsClassifier() 0.545819397993311\n",
            "XGBClassifier() 0.5418060200668896\n"
          ]
        }
      ],
      "source": [
        "for classifier in classifiers:\n",
        "  score = cross_val_score(classifier, X_train, y_train, cv=5, scoring='recall')\n",
        "  print(classifier, score.mean())"
      ]
    },
    {
      "cell_type": "markdown",
      "metadata": {
        "id": "xYxrEkkuUOKu"
      },
      "source": [
        "Como podemos ver, resultados muito parecidos foram obtidos pela regressão logística, AdaBoost, K-vizinhos mais próximos e XGBoost. Testaremos aqui dois modelos: uma regressão logística, por ter tido o melhor desempenho padrão e um XGBoost, por ser um modelo altamente flexível, com um grande potencial de aprimoramento."
      ]
    },
    {
      "cell_type": "markdown",
      "source": [
        "### Lidando com desbalanceamento \n",
        "\n",
        "Como vimos anteriormente, existe um desbalanceamento dos dados entre as duas classes. Para lidar com isso, usaremos aqui o método *class weight*, que configura uma penalização maior no algorítmo para erros de classificação da classe minoritária, que é justamente a que estamos tentando prever aqui. "
      ],
      "metadata": {
        "id": "qEz4MeiiY3vY"
      }
    },
    {
      "cell_type": "markdown",
      "source": [
        "## Regressão logística \n",
        "\n",
        "Vamos começar treinando uma regressão logística. Iremos otimizar o hiperparâmetro de regularização (``C``) com uma *grid search*."
      ],
      "metadata": {
        "id": "NAb3qSH-gOv0"
      }
    },
    {
      "cell_type": "code",
      "source": [
        "cv = StratifiedKFold(shuffle=True)"
      ],
      "metadata": {
        "id": "voppbnB-hfh1"
      },
      "execution_count": 41,
      "outputs": []
    },
    {
      "cell_type": "code",
      "source": [
        "log_reg = LogisticRegression(class_weight='balanced', random_state=42, max_iter=300)"
      ],
      "metadata": {
        "id": "udau1m4AgNx0"
      },
      "execution_count": 42,
      "outputs": []
    },
    {
      "cell_type": "code",
      "source": [
        "log_reg_params = {\n",
        "    'C': [0.01, 0.1, 1, 10, 100]\n",
        "}\n",
        "\n",
        "grid_search_log = GridSearchCV(log_reg, log_reg_params, cv = cv, scoring='recall')\n",
        "grid_search_log.fit(X_train, y_train)\n",
        "\n",
        "grid_search_log.best_params_, grid_search_log.best_score_"
      ],
      "metadata": {
        "colab": {
          "base_uri": "https://localhost:8080/"
        },
        "id": "Q_-G3dLlgiUO",
        "outputId": "4f3bca00-5bfb-4444-9c24-aea93a18abca"
      },
      "execution_count": 43,
      "outputs": [
        {
          "output_type": "execute_result",
          "data": {
            "text/plain": [
              "({'C': 1}, 0.8040133779264215)"
            ]
          },
          "metadata": {},
          "execution_count": 43
        }
      ]
    },
    {
      "cell_type": "code",
      "source": [
        "log_reg = LogisticRegression(class_weight='balanced', random_state=42, C=10)"
      ],
      "metadata": {
        "id": "Y1PG04VagvkU"
      },
      "execution_count": 44,
      "outputs": []
    },
    {
      "cell_type": "code",
      "source": [
        "log_reg.fit(X_train, y_train)\n",
        "log_reg_preds = log_reg.predict(X_test)"
      ],
      "metadata": {
        "id": "BmVZ1V8Sgnus"
      },
      "execution_count": 45,
      "outputs": []
    },
    {
      "cell_type": "markdown",
      "source": [
        "### Resultados -- regressão logística"
      ],
      "metadata": {
        "id": "6Ml7oDhUQyXH"
      }
    },
    {
      "cell_type": "code",
      "source": [
        "metrics(y_test, log_reg_preds)"
      ],
      "metadata": {
        "colab": {
          "base_uri": "https://localhost:8080/"
        },
        "id": "40DajjNUgpBk",
        "outputId": "1430cc4c-8444-4551-a1d8-cb0e8d7b4115"
      },
      "execution_count": 73,
      "outputs": [
        {
          "output_type": "stream",
          "name": "stdout",
          "text": [
            "Acurácia:  0.7299218194740583\n",
            "Recall:  0.7914438502673797\n",
            "Precisão:  0.49498327759197325\n",
            "F1-score:  0.6090534979423867\n"
          ]
        }
      ]
    },
    {
      "cell_type": "code",
      "source": [
        "plot_confusion_matrix(y_test, log_reg_preds)"
      ],
      "metadata": {
        "colab": {
          "base_uri": "https://localhost:8080/",
          "height": 369
        },
        "id": "t7W3imBA6mXc",
        "outputId": "76d80591-c758-41f2-ed52-8e4d1551fe75"
      },
      "execution_count": 74,
      "outputs": [
        {
          "output_type": "display_data",
          "data": {
            "text/plain": [
              "<Figure size 576x360 with 2 Axes>"
            ],
            "image/png": "[encoded data removed]"
          },
          "metadata": {
            "needs_background": "light"
          }
        }
      ]
    },
    {
      "cell_type": "markdown",
      "metadata": {
        "id": "sJwS7_9iY9j8"
      },
      "source": [
        "## XGBoost\n",
        "\n",
        "XGBoost é um algorítmo de decisão que faz parte da família dos modelos de *gradient boosting*, que são sofisticações de árvores de decisões."
      ]
    },
    {
      "cell_type": "markdown",
      "metadata": {
        "id": "fSmLdNhdKLqR"
      },
      "source": [
        "### Otimizando os hiperparâmetros\n",
        "\n",
        "Uma abordagem típica na otimização de hiperparâmetros com XGBoost é a seguinte:\n",
        "\n",
        "* Escolha uma *learning rate* padrão (como 0,1). A partir dela, escolha o melhor número de árvores para treinamento.\n",
        "\n",
        "* Otimize os parâmetros da árvore.\n",
        "\n",
        "* Otimize os parâmetros de regularização.\n",
        "\n",
        "Portanto, ao invés de considerarmos todas as combinações de hiperparâmetros possíveis, dividimos o processo em etapas e otimizamos uma etapa por vez.\n",
        "\n"
      ]
    },
    {
      "cell_type": "code",
      "execution_count": 48,
      "metadata": {
        "id": "T4pfEBdgPaye"
      },
      "outputs": [],
      "source": [
        "metrics = [\n",
        "    'recall',\n",
        "    'precision',\n",
        "    'f1',\n",
        "    'roc_auc'\n",
        "]"
      ]
    },
    {
      "cell_type": "markdown",
      "metadata": {
        "id": "nIOpcrFGEF_s"
      },
      "source": [
        "#### Otimizando o número de árvores (``n_instances``)"
      ]
    },
    {
      "cell_type": "code",
      "execution_count": 49,
      "metadata": {
        "id": "wZlrwmKTY6vA"
      },
      "outputs": [],
      "source": [
        "xgb1 = XGBClassifier(\n",
        "    learning_rate=0.1,\n",
        "    seed=27,\n",
        "    scale_pos_weight = len(y_train[y_train == 0]) / len(y_train[y_train== 1])\n",
        ")"
      ]
    },
    {
      "cell_type": "code",
      "execution_count": 50,
      "metadata": {
        "colab": {
          "base_uri": "https://localhost:8080/"
        },
        "id": "0upSYhhU5yxM",
        "outputId": "f3ac2d51-b9de-422e-a437-a0d3e6e4ceb8"
      },
      "outputs": [
        {
          "output_type": "stream",
          "name": "stdout",
          "text": [
            "Fitting 5 folds for each of 18 candidates, totalling 90 fits\n"
          ]
        },
        {
          "output_type": "execute_result",
          "data": {
            "text/plain": [
              "GridSearchCV(cv=StratifiedKFold(n_splits=5, random_state=None, shuffle=True),\n",
              "             estimator=XGBClassifier(scale_pos_weight=2.762541806020067,\n",
              "                                     seed=27),\n",
              "             n_jobs=-1,\n",
              "             param_grid={'n_estimators': [100, 150, 200, 250, 300, 350, 400,\n",
              "                                          450, 500, 550, 600, 650, 700, 750,\n",
              "                                          800, 850, 900, 950]},\n",
              "             scoring='recall', verbose=2)"
            ]
          },
          "metadata": {},
          "execution_count": 50
        }
      ],
      "source": [
        "param_grid = {\n",
        "    'n_estimators': [n for n in range(100, 1000, 50)]\n",
        "}\n",
        "\n",
        "\n",
        "grid_search = GridSearchCV(xgb1, param_grid, scoring='recall', n_jobs=-1, verbose=2, cv=cv)\n",
        "\n",
        "grid_search.fit(X_train, y_train)"
      ]
    },
    {
      "cell_type": "code",
      "execution_count": 51,
      "metadata": {
        "colab": {
          "base_uri": "https://localhost:8080/"
        },
        "id": "wiOLQbqg6Ns-",
        "outputId": "0599bd61-40cd-40f5-db1d-abe5570a83e0"
      },
      "outputs": [
        {
          "output_type": "stream",
          "name": "stdout",
          "text": [
            "{'n_estimators': 100} 0.7933110367892977\n"
          ]
        }
      ],
      "source": [
        "print(grid_search.best_params_, grid_search.best_score_)"
      ]
    },
    {
      "cell_type": "markdown",
      "metadata": {
        "id": "J1fxPa3TEKQy"
      },
      "source": [
        "#### ``min_child_weight`` e ``max_depth``"
      ]
    },
    {
      "cell_type": "code",
      "execution_count": 52,
      "metadata": {
        "id": "b1nNiCEK6p9H"
      },
      "outputs": [],
      "source": [
        "xgb2 = XGBClassifier(\n",
        "    learning_rate=0.1,\n",
        "    scale_pos_weight= len(y_train[y_train == 0]) / len(y_train[y_train== 1]),\n",
        "    seed=27,\n",
        "    n_estimators=100\n",
        ")"
      ]
    },
    {
      "cell_type": "code",
      "execution_count": 53,
      "metadata": {
        "colab": {
          "base_uri": "https://localhost:8080/"
        },
        "id": "boTE09oM7ikI",
        "outputId": "48dd16fd-4db6-4685-e48e-e6524807617e"
      },
      "outputs": [
        {
          "output_type": "stream",
          "name": "stdout",
          "text": [
            "Fitting 5 folds for each of 49 candidates, totalling 245 fits\n"
          ]
        },
        {
          "output_type": "execute_result",
          "data": {
            "text/plain": [
              "GridSearchCV(cv=StratifiedKFold(n_splits=5, random_state=None, shuffle=True),\n",
              "             estimator=XGBClassifier(scale_pos_weight=2.762541806020067,\n",
              "                                     seed=27),\n",
              "             n_jobs=-1,\n",
              "             param_grid={'max_depth': [3, 4, 5, 6, 7, 8, 9],\n",
              "                         'min_child_weight': [3, 4, 5, 6, 7, 8, 9]},\n",
              "             scoring='recall', verbose=2)"
            ]
          },
          "metadata": {},
          "execution_count": 53
        }
      ],
      "source": [
        "tree_param_grid = {\n",
        "    'max_depth': [n for n in range(3, 10)],\n",
        "    'min_child_weight': [n for n in range(3, 10)]\n",
        "}\n",
        "\n",
        "\n",
        "tree_grid_search = GridSearchCV(xgb2, tree_param_grid, scoring='recall', n_jobs=-1, verbose=2, cv=cv)\n",
        "\n",
        "tree_grid_search.fit(X_train, y_train)"
      ]
    },
    {
      "cell_type": "code",
      "execution_count": 54,
      "metadata": {
        "colab": {
          "base_uri": "https://localhost:8080/"
        },
        "id": "383LwiltFFLh",
        "outputId": "140c239e-4865-4d10-8134-eda7520dc207"
      },
      "outputs": [
        {
          "output_type": "stream",
          "name": "stdout",
          "text": [
            "{'max_depth': 3, 'min_child_weight': 3} 0.8006688963210703\n"
          ]
        }
      ],
      "source": [
        "print(tree_grid_search.best_params_, tree_grid_search.best_score_)"
      ]
    },
    {
      "cell_type": "markdown",
      "metadata": {
        "id": "KFwWiZxkI01Y"
      },
      "source": [
        "#### ``gamma``"
      ]
    },
    {
      "cell_type": "code",
      "execution_count": 55,
      "metadata": {
        "id": "_RBIg009HfE6"
      },
      "outputs": [],
      "source": [
        "xgb3 = XGBClassifier(\n",
        "    learning_rate=0.1,\n",
        "    scale_pos_weight= len(y_train[y_train == 0]) / len(y_train[y_train== 1]),\n",
        "    seed=27,\n",
        "    n_estimators=100,\n",
        "    max_depth = 3,\n",
        "    min_child_weight = 4\n",
        ")"
      ]
    },
    {
      "cell_type": "code",
      "execution_count": 56,
      "metadata": {
        "colab": {
          "base_uri": "https://localhost:8080/"
        },
        "id": "xl9kw3N4F6FF",
        "outputId": "09fbef54-a2d6-49ba-f381-06ab431bce35"
      },
      "outputs": [
        {
          "output_type": "execute_result",
          "data": {
            "text/plain": [
              "GridSearchCV(cv=StratifiedKFold(n_splits=5, random_state=None, shuffle=True),\n",
              "             estimator=XGBClassifier(min_child_weight=4,\n",
              "                                     scale_pos_weight=2.762541806020067,\n",
              "                                     seed=27),\n",
              "             param_grid={'gamma': [0.0, 0.1, 0.2, 0.3, 0.4, 0.5, 0.6, 0.7, 0.8,\n",
              "                                   0.9]},\n",
              "             scoring='recall')"
            ]
          },
          "metadata": {},
          "execution_count": 56
        }
      ],
      "source": [
        "gamma_params = {\n",
        "    'gamma' : [n/10.0 for n in range(0, 10)]\n",
        "}\n",
        "grid_search_gamma = GridSearchCV(xgb3, gamma_params, cv = cv, scoring='recall')\n",
        "grid_search_gamma.fit(X_train, y_train)"
      ]
    },
    {
      "cell_type": "code",
      "execution_count": 57,
      "metadata": {
        "colab": {
          "base_uri": "https://localhost:8080/"
        },
        "id": "UVSlhLsfHr15",
        "outputId": "ba0379be-53bd-47b0-caeb-5421d41430a8"
      },
      "outputs": [
        {
          "output_type": "stream",
          "name": "stdout",
          "text": [
            "{'gamma': 0.0} 0.8053511705685619\n"
          ]
        }
      ],
      "source": [
        "print(grid_search_gamma.best_params_, grid_search_gamma.best_score_)"
      ]
    },
    {
      "cell_type": "markdown",
      "metadata": {
        "id": "VUSYUri9Jhi1"
      },
      "source": [
        "#### ``subsample`` e ``colsample_bytree``"
      ]
    },
    {
      "cell_type": "code",
      "execution_count": 58,
      "metadata": {
        "colab": {
          "base_uri": "https://localhost:8080/"
        },
        "id": "DNK2ju8UJiQP",
        "outputId": "a799b735-5f4b-497b-8638-afb45bb084e6"
      },
      "outputs": [
        {
          "output_type": "execute_result",
          "data": {
            "text/plain": [
              "GridSearchCV(cv=StratifiedKFold(n_splits=5, random_state=None, shuffle=True),\n",
              "             estimator=XGBClassifier(min_child_weight=4,\n",
              "                                     scale_pos_weight=2.762541806020067,\n",
              "                                     seed=27),\n",
              "             param_grid={'colsample_bytrre': [0.5, 0.6, 0.7, 0.8, 0.9],\n",
              "                         'subsample': [0.5, 0.6, 0.7, 0.8, 0.9]},\n",
              "             scoring='recall')"
            ]
          },
          "metadata": {},
          "execution_count": 58
        }
      ],
      "source": [
        "sample_params = {\n",
        "    'subsample': [n/10 for n in range(5, 10)],\n",
        "    'colsample_bytrre': [n/10 for n in range(5, 10)]\n",
        "}\n",
        "\n",
        "grid_search_sample = GridSearchCV(xgb3, sample_params, cv = cv, scoring='recall')\n",
        "grid_search_sample.fit(X_train, y_train)"
      ]
    },
    {
      "cell_type": "code",
      "execution_count": 59,
      "metadata": {
        "colab": {
          "base_uri": "https://localhost:8080/"
        },
        "id": "zqoEgtElKPIw",
        "outputId": "42435b28-8dcf-4817-980e-ecceabe72b62"
      },
      "outputs": [
        {
          "output_type": "stream",
          "name": "stdout",
          "text": [
            "{'colsample_bytrre': 0.5, 'subsample': 0.7} 0.7979933110367894\n"
          ]
        }
      ],
      "source": [
        "print(grid_search_sample.best_params_, grid_search_sample.best_score_)"
      ]
    },
    {
      "cell_type": "code",
      "execution_count": 60,
      "metadata": {
        "colab": {
          "base_uri": "https://localhost:8080/"
        },
        "id": "HNN8Hx38KUZv",
        "outputId": "abfaa3bf-7643-4961-bb8c-ff5b80daa27c"
      },
      "outputs": [
        {
          "output_type": "execute_result",
          "data": {
            "text/plain": [
              "GridSearchCV(cv=StratifiedKFold(n_splits=5, random_state=None, shuffle=True),\n",
              "             estimator=XGBClassifier(min_child_weight=4,\n",
              "                                     scale_pos_weight=2.762541806020067,\n",
              "                                     seed=27),\n",
              "             param_grid={'learning_rate': [0.01, 0.03, 0.05, 0.07, 0.09]},\n",
              "             scoring='recall')"
            ]
          },
          "metadata": {},
          "execution_count": 60
        }
      ],
      "source": [
        "learning_params = {\n",
        "    'learning_rate': [n/100 for n in range(1, 10, 2)]}\n",
        "\n",
        "\n",
        "grid_search_learning = GridSearchCV(xgb3, learning_params, cv = cv, scoring='recall')\n",
        "grid_search_learning.fit(X_train, y_train)"
      ]
    },
    {
      "cell_type": "code",
      "execution_count": 61,
      "metadata": {
        "colab": {
          "base_uri": "https://localhost:8080/"
        },
        "id": "8rPTOohuLEuC",
        "outputId": "d1d94b8d-c89e-4fc9-de1d-7920860b067c"
      },
      "outputs": [
        {
          "output_type": "stream",
          "name": "stdout",
          "text": [
            "{'learning_rate': 0.01} 0.8187290969899665\n"
          ]
        }
      ],
      "source": [
        "print(grid_search_learning.best_params_, grid_search_learning.best_score_)"
      ]
    },
    {
      "cell_type": "code",
      "execution_count": 62,
      "metadata": {
        "id": "R0WNxDNyLPrY"
      },
      "outputs": [],
      "source": [
        "xgb4 = XGBClassifier(\n",
        "    learning_rate=0.01,\n",
        "    scale_pos_weight= len(y_train[y_train == 0]) / len(y_train[y_train== 1]),\n",
        "    seed=27,\n",
        "    n_estimators=100,\n",
        "    gamma=0,\n",
        "    colsample_bytree = 0.5,\n",
        "    subsample=0.9 \n",
        ")"
      ]
    },
    {
      "cell_type": "markdown",
      "metadata": {
        "id": "9h5ZC7bXS2kW"
      },
      "source": [
        "### Resultados -- XGBoost\n"
      ]
    },
    {
      "cell_type": "code",
      "execution_count": 63,
      "metadata": {
        "id": "HSqdRt31S6if"
      },
      "outputs": [],
      "source": [
        "xgb4.fit(X_train, y_train)\n",
        "xgb_preds = xgb4.predict(X_test)"
      ]
    },
    {
      "cell_type": "code",
      "execution_count": 70,
      "metadata": {
        "colab": {
          "base_uri": "https://localhost:8080/"
        },
        "id": "SDaa8xVEUSSU",
        "outputId": "1fa0b640-b697-4d9e-8401-0582c5432613"
      },
      "outputs": [
        {
          "output_type": "stream",
          "name": "stdout",
          "text": [
            "Acurácia:  0.7185501066098081\n",
            "Recall:  0.8155080213903744\n",
            "Precisão:  0.4825949367088608\n",
            "F1-score:  0.606361829025845\n"
          ]
        }
      ],
      "source": [
        "metrics(y_test = y_test, preds=  xgb_preds)"
      ]
    },
    {
      "cell_type": "code",
      "execution_count": 71,
      "metadata": {
        "id": "WGz1FKO_UU6N",
        "colab": {
          "base_uri": "https://localhost:8080/",
          "height": 369
        },
        "outputId": "88d97c0b-89ca-4e75-8958-9c523d7553e7"
      },
      "outputs": [
        {
          "output_type": "display_data",
          "data": {
            "text/plain": [
              "<Figure size 576x360 with 2 Axes>"
            ],
            "image/png": "[encoded data removed]"
          },
          "metadata": {
            "needs_background": "light"
          }
        }
      ],
      "source": [
        "plot_confusion_matrix(y_test, xgb_preds)"
      ]
    },
    {
      "cell_type": "markdown",
      "source": [
        "## Resultados -- métricas de negócios\n",
        "\n",
        "Com os resultados obtidos, podemos calcular algumas métricas de negócios.\n",
        "\n",
        "* Churn rate: como explicado no início, é a proporção de clientes que efetuaram churn no conjunto de dados.\n",
        "\n",
        "* Taxa de churn rate prevista: é a taxa de churn prevista pelo modelo.\n",
        "\n",
        "* É a taxa de churn corretamente prevista pelo modelo, em relação ao conjunto total de dados.\n",
        "\n",
        "* MMR churn anual por cliente: é a quantidade de receitas anuais média que cada cliente que realizou churn e foi corretamente previsto pelo modelo gera. Se nós supormos que, ao identificar esses clientes, nós conseguíssemos impedir 100% dos churns de se concretizarem, então esse valor seria igual à receita salva pela empresa por ano e por cliente."
      ],
      "metadata": {
        "id": "3ehPDzsMiUys"
      }
    },
    {
      "cell_type": "code",
      "source": [
        "xgb_preds = pd.Series(xgb_preds, index=y_test.index)\n",
        "log_reg_preds = pd.Series(log_reg_preds, index=y_test.index)"
      ],
      "metadata": {
        "id": "Z8CO4YNUlQbI"
      },
      "execution_count": 100,
      "outputs": []
    },
    {
      "cell_type": "code",
      "source": [
        "print(\"Métricas de negócios -- regressão logística\\n\")\n",
        "business_metrics(y_test, xgb_preds, churn, 'MonthlyCharges')"
      ],
      "metadata": {
        "id": "9LIMDjtNyivf",
        "colab": {
          "base_uri": "https://localhost:8080/"
        },
        "outputId": "2d87a36c-bf30-4031-e634-098a3273f29f"
      },
      "execution_count": 109,
      "outputs": [
        {
          "output_type": "stream",
          "name": "stdout",
          "text": [
            "Métricas de negócios -- regressão logística\n",
            "\n"
          ]
        },
        {
          "output_type": "execute_result",
          "data": {
            "text/plain": [
              "Taxa de churn                                                   0.265814\n",
              "Taxa de churn prevista                                          0.449183\n",
              "Recall                                                          0.815508\n",
              "Churns corretamente previstos                                   0.216773\n",
              "MRR churn anual por cliente (receita potencialmente salva)    782.413220\n",
              "dtype: float64"
            ]
          },
          "metadata": {},
          "execution_count": 109
        }
      ]
    },
    {
      "cell_type": "code",
      "source": [
        "print('Métricas de negócios\\n')\n",
        "business_metrics(y_test, log_reg_preds, churn, 'MonthlyCharges')"
      ],
      "metadata": {
        "id": "GNmCrVl_z1Cc",
        "colab": {
          "base_uri": "https://localhost:8080/"
        },
        "outputId": "83438b5b-22e1-411f-f252-e38ec42d7c46"
      },
      "execution_count": 110,
      "outputs": [
        {
          "output_type": "stream",
          "name": "stdout",
          "text": [
            "Métricas de negócios\n",
            "\n"
          ]
        },
        {
          "output_type": "execute_result",
          "data": {
            "text/plain": [
              "Taxa de churn                                                   0.265814\n",
              "Taxa de churn prevista                                          0.425018\n",
              "Recall                                                          0.791444\n",
              "Churns corretamente previstos                                   0.210377\n",
              "MRR churn anual por cliente (receita potencialmente salva)    782.413220\n",
              "dtype: float64"
            ]
          },
          "metadata": {},
          "execution_count": 110
        }
      ]
    },
    {
      "cell_type": "markdown",
      "source": [
        "## Conclusões"
      ],
      "metadata": {
        "id": "MqMaJwIS-UjK"
      }
    },
    {
      "cell_type": "markdown",
      "source": [
        "Como se pode observar, obtemos resultados extremamente parecidos entre os dois algorítmos e até idênticos no caso do MMR anual. O maior ponto fraco dos modelos está na ocorrência de falsos positivos.\n",
        "\n",
        "Contudo, a detecção de churn está na casa dos 80%, o que reflete em um potencial de ganhos muito grandes para a empresa. Logo, após a implementação desse modelo, o próximo passo seria a criação de estratégias que sejam capazes de manter a maior parte possível dos clientes identificados pelo algorítmo de machine learning.\n",
        "\n",
        "Dentre elas, podemos citar o oferecimento de incentivos, brindes, descontos, oferecer melhores serviços, melhorar a qualidade dos contratos, dentre outras alternativas.\n",
        "\n"
      ],
      "metadata": {
        "id": "i29CeFHk6ACM"
      }
    }
  ],
  "metadata": {
    "accelerator": "GPU",
    "colab": {
      "provenance": [],
      "authorship_tag": "ABX9TyPI/dOv13pDpdayXofpCjt3",
      "include_colab_link": true
    },
    "gpuClass": "standard",
    "kernelspec": {
      "display_name": "Python 3",
      "name": "python3"
    },
    "language_info": {
      "name": "python"
    }
  },
  "nbformat": 4,
  "nbformat_minor": 0
}